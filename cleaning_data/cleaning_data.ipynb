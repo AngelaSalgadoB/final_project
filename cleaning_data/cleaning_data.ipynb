{
 "cells": [
  {
   "cell_type": "code",
   "execution_count": null,
   "metadata": {},
   "outputs": [],
   "source": [
    "import pandas as pd\n",
    "import plistlib\n",
    "from pandas import DataFrame\n",
    "import numpy as np\n",
    "import math"
   ]
  },
  {
   "cell_type": "code",
   "execution_count": null,
   "metadata": {},
   "outputs": [],
   "source": [
    "gbv_call_data_2020=pd.read_csv(r'/Users/angelaivonnesalgadobeltran/Documents/IronHack/Final project/Argentina_data/linea144-2020.csv')"
   ]
  },
  {
   "cell_type": "code",
   "execution_count": null,
   "metadata": {},
   "outputs": [],
   "source": [
    "gbv_call_data_2021=pd.read_csv(r'/Users/angelaivonnesalgadobeltran/Documents/IronHack/Final project/Argentina_data/linea144-2021_0.csv')"
   ]
  },
  {
   "cell_type": "code",
   "execution_count": null,
   "metadata": {},
   "outputs": [],
   "source": [
    "gbv_call_data_2022_1=pd.read_csv(r'/Users/angelaivonnesalgadobeltran/Documents/IronHack/Final project/Argentina_data/linea144-1ersemestre-2022.csv')"
   ]
  },
  {
   "cell_type": "markdown",
   "metadata": {},
   "source": [
    "1. Apped all the dataframes from 2020, 2021 and 2022 in one Dataframe"
   ]
  },
  {
   "cell_type": "code",
   "execution_count": null,
   "metadata": {},
   "outputs": [],
   "source": [
    "gvb_calls_data=gbv_call_data_2020.append([gbv_call_data_2021, gbv_call_data_2022_1])\n",
    "gvb_calls_data"
   ]
  },
  {
   "cell_type": "code",
   "execution_count": null,
   "metadata": {},
   "outputs": [],
   "source": [
    "gvb_calls_data"
   ]
  },
  {
   "cell_type": "markdown",
   "metadata": {},
   "source": [
    "# --------Cleaning---------"
   ]
  },
  {
   "cell_type": "code",
   "execution_count": null,
   "metadata": {},
   "outputs": [],
   "source": [
    "gvb_calls_data.isna().sum()"
   ]
  },
  {
   "cell_type": "markdown",
   "metadata": {},
   "source": [
    "1. Drop \"pais_nacimiento_persona_en_situacion_de_violencia\" column because more than 30% of mv"
   ]
  },
  {
   "cell_type": "code",
   "execution_count": null,
   "metadata": {},
   "outputs": [],
   "source": [
    "gvb_calls_data.drop(columns=['pais_nacimiento_persona_en_situacion_de_violencia'], inplace=True)"
   ]
  },
  {
   "cell_type": "markdown",
   "metadata": {},
   "source": [
    "2. Droping rowns with mv in column genero_de_la_persona_agresora"
   ]
  },
  {
   "cell_type": "code",
   "execution_count": null,
   "metadata": {},
   "outputs": [],
   "source": [
    "gvb_calls_data = gvb_calls_data[gvb_calls_data['genero_de_la_persona_agresora'].notna()]"
   ]
  },
  {
   "cell_type": "markdown",
   "metadata": {},
   "source": [
    "3. Drop rows with mv in column 'vinculo_con_la_persona_agresora"
   ]
  },
  {
   "cell_type": "code",
   "execution_count": null,
   "metadata": {},
   "outputs": [],
   "source": [
    "gvb_calls_data = gvb_calls_data[gvb_calls_data['vinculo_con_la_persona_agresora'].notna()]"
   ]
  },
  {
   "cell_type": "code",
   "execution_count": null,
   "metadata": {},
   "outputs": [],
   "source": [
    "gvb_calls_data.isna().sum()"
   ]
  },
  {
   "cell_type": "markdown",
   "metadata": {},
   "source": [
    "4. Cleaning mv in the column \"edad_persona_en_situacion_de_violencia\""
   ]
  },
  {
   "cell_type": "markdown",
   "metadata": {},
   "source": [
    "4.1 Firstly we have to clean the column 'prov_residencia_persona_en_situacion_violencia' in our general dataframe to avoid str problems with the names of the states"
   ]
  },
  {
   "cell_type": "code",
   "execution_count": null,
   "metadata": {},
   "outputs": [],
   "source": [
    "gvb_calls_data['prov_residencia_persona_en_situacion_violencia'] = np.where((gvb_calls_data['prov_residencia_persona_en_situacion_violencia'] == 'Ciudad Autónoma de Buenos Aires'), 'Buenos Aires', gvb_calls_data['prov_residencia_persona_en_situacion_violencia'])\n",
    "gvb_calls_data['prov_residencia_persona_en_situacion_violencia'] = np.where((gvb_calls_data['prov_residencia_persona_en_situacion_violencia'] == 'Santiago Del Estero'), 'Santiago del Estero', gvb_calls_data['prov_residencia_persona_en_situacion_violencia'])\n",
    "gvb_calls_data['prov_residencia_persona_en_situacion_violencia'] = gvb_calls_data['prov_residencia_persona_en_situacion_violencia'].replace(np.nan, 'Buenos Aires')"
   ]
  },
  {
   "cell_type": "markdown",
   "metadata": {},
   "source": [
    "4.2  We want to know wich are the rows that have mv in the column \"edad_persona_en_situation_de_violencia\" in order to classifie them depending of the place of occurrence. The objective is yo replace the mv by the mean of the age in each state."
   ]
  },
  {
   "cell_type": "code",
   "execution_count": null,
   "metadata": {},
   "outputs": [],
   "source": [
    "mv_edad :DataFrame =gvb_calls_data.loc[gvb_calls_data['edad_persona_en_situacion_de_violencia'].isna()]\n",
    "mv_edad\n",
    "mv_edad['prov_residencia_persona_en_situacion_violencia'].value_counts()"
   ]
  },
  {
   "cell_type": "markdown",
   "metadata": {},
   "source": [
    "4.3 We create a new dataframe that contains the mean of the age in each state. After that, we merge this small dataframe with our general dataframe in order to have one column with the mean of age depending of the state. "
   ]
  },
  {
   "cell_type": "code",
   "execution_count": null,
   "metadata": {},
   "outputs": [],
   "source": [
    "mean_age : DataFrame=gvb_calls_data.groupby(['prov_residencia_persona_en_situacion_violencia']).agg({\"edad_persona_en_situacion_de_violencia\" :\"mean\"})\n",
    "mean_age=mean_age.reset_index()\n",
    "mean_age.rename(columns={'edad_persona_en_situacion_de_violencia':'media_edad'}, inplace=True)\n",
    "gvb_calls_data=pd.merge(gvb_calls_data, mean_age, on='prov_residencia_persona_en_situacion_violencia')\n",
    "gvb_calls_data"
   ]
  },
  {
   "cell_type": "code",
   "execution_count": null,
   "metadata": {},
   "outputs": [],
   "source": [
    "gvb_calls_data"
   ]
  },
  {
   "cell_type": "markdown",
   "metadata": {},
   "source": [
    "4.4 We replace the mv in the age columns with the age_mean of each state "
   ]
  },
  {
   "cell_type": "code",
   "execution_count": null,
   "metadata": {},
   "outputs": [],
   "source": [
    "def compute_age(age,mean):\n",
    "    if math.isnan(age):\n",
    "        return mean\n",
    "    return age  \n",
    "\n",
    "gvb_calls_data['edad']=gvb_calls_data.apply(lambda row: compute_age(row['edad_persona_en_situacion_de_violencia'], row['media_edad']), axis=1)"
   ]
  },
  {
   "cell_type": "markdown",
   "metadata": {},
   "source": [
    "5. Drop column 'edad_persona_en_situacion_de_violencia'"
   ]
  },
  {
   "cell_type": "code",
   "execution_count": null,
   "metadata": {},
   "outputs": [],
   "source": [
    "gvb_calls_data.drop(columns=['edad_persona_en_situacion_de_violencia'], inplace=True)"
   ]
  },
  {
   "cell_type": "markdown",
   "metadata": {},
   "source": [
    "6. Drop rows with mv in 'genero_persona_en_situacion_de_violencia'"
   ]
  },
  {
   "cell_type": "code",
   "execution_count": null,
   "metadata": {},
   "outputs": [],
   "source": [
    "gvb_calls_data = gvb_calls_data[gvb_calls_data['genero_persona_en_situacion_de_violencia'].notna()]"
   ]
  },
  {
   "cell_type": "code",
   "execution_count": null,
   "metadata": {},
   "outputs": [],
   "source": [
    "gvb_calls_data.isna().sum()"
   ]
  }
 ],
 "metadata": {
  "kernelspec": {
   "display_name": "Python 3.9.7 ('base')",
   "language": "python",
   "name": "python3"
  },
  "language_info": {
   "codemirror_mode": {
    "name": "ipython",
    "version": 3
   },
   "file_extension": ".py",
   "mimetype": "text/x-python",
   "name": "python",
   "nbconvert_exporter": "python",
   "pygments_lexer": "ipython3",
   "version": "3.9.7"
  },
  "orig_nbformat": 4,
  "vscode": {
   "interpreter": {
    "hash": "c2cbc3b52abc8e06b49e1ca36d2c5594418131a07976fda795c55fb6bf71fd75"
   }
  }
 },
 "nbformat": 4,
 "nbformat_minor": 2
}
