{
 "cells": [
  {
   "cell_type": "code",
   "execution_count": null,
   "metadata": {},
   "outputs": [],
   "source": [
    "import pandas as pd\n",
    "import plistlib"
   ]
  },
  {
   "cell_type": "code",
   "execution_count": null,
   "metadata": {},
   "outputs": [],
   "source": [
    "gbv_call_data_2020=pd.read_csv(r'/Users/angelaivonnesalgadobeltran/Documents/IronHack/Final project/Argentina_data/linea144-2020.csv')"
   ]
  },
  {
   "cell_type": "code",
   "execution_count": null,
   "metadata": {},
   "outputs": [],
   "source": [
    "gbv_call_data_2021=pd.read_csv(r'/Users/angelaivonnesalgadobeltran/Documents/IronHack/Final project/Argentina_data/linea144-2021_0.csv')"
   ]
  },
  {
   "cell_type": "code",
   "execution_count": null,
   "metadata": {},
   "outputs": [],
   "source": [
    "gbv_call_data_2022_1=pd.read_csv(r'/Users/angelaivonnesalgadobeltran/Documents/IronHack/Final project/Argentina_data/linea144-1ersemestre-2022.csv')"
   ]
  },
  {
   "cell_type": "markdown",
   "metadata": {},
   "source": [
    "1. Apped all the dataframes from 2020, 2021 and 2022 in one Datafrmae"
   ]
  },
  {
   "cell_type": "code",
   "execution_count": null,
   "metadata": {},
   "outputs": [],
   "source": [
    "gvb_calls_data=gbv_call_data_2020.append([gbv_call_data_2021, gbv_call_data_2022_1])\n",
    "gvb_calls_data"
   ]
  },
  {
   "cell_type": "code",
   "execution_count": null,
   "metadata": {},
   "outputs": [],
   "source": [
    "gvb_calls_data"
   ]
  },
  {
   "cell_type": "markdown",
   "metadata": {},
   "source": [
    "# --------Cleaning---------"
   ]
  },
  {
   "cell_type": "code",
   "execution_count": null,
   "metadata": {},
   "outputs": [],
   "source": [
    "gvb_calls_data.isna().sum()"
   ]
  },
  {
   "cell_type": "markdown",
   "metadata": {},
   "source": [
    "Drop \"pais_nacimiento_persona_en_situacion_de_violencia\" column because more than 30% of mv"
   ]
  },
  {
   "cell_type": "code",
   "execution_count": null,
   "metadata": {},
   "outputs": [],
   "source": [
    "gvb_calls_data.drop(columns=['pais_nacimiento_persona_en_situacion_de_violencia'], inplace=True)"
   ]
  },
  {
   "cell_type": "code",
   "execution_count": null,
   "metadata": {},
   "outputs": [],
   "source": [
    "gvb_calls_data.dtypes"
   ]
  },
  {
   "cell_type": "markdown",
   "metadata": {},
   "source": [
    "Droping rowns with ms in column genero_de_la_persona_agresora"
   ]
  },
  {
   "cell_type": "code",
   "execution_count": null,
   "metadata": {},
   "outputs": [],
   "source": [
    "gvb_calls_data = gvb_calls_data[gvb_calls_data['genero_de_la_persona_agresora'].notna()]"
   ]
  },
  {
   "cell_type": "code",
   "execution_count": null,
   "metadata": {},
   "outputs": [],
   "source": [
    "gvb_calls_data = gvb_calls_data[gvb_calls_data['vinculo_con_la_persona_agresora'].notna()]"
   ]
  },
  {
   "cell_type": "code",
   "execution_count": null,
   "metadata": {},
   "outputs": [],
   "source": [
    "gvb_calls_data.isna().sum()"
   ]
  },
  {
   "cell_type": "markdown",
   "metadata": {},
   "source": [
    "Cleaning mv in the column \"edad_persona_en_situacion_de_violencia\""
   ]
  },
  {
   "cell_type": "code",
   "execution_count": null,
   "metadata": {},
   "outputs": [],
   "source": [
    "mv_edad=gvb_calls_data.loc[gvb_calls_data['edad_persona_en_situacion_de_violencia'].isna()]\n",
    "mv_edad"
   ]
  },
  {
   "cell_type": "code",
   "execution_count": null,
   "metadata": {},
   "outputs": [],
   "source": [
    "gvb_calls_data['edad_persona_en_situacion_de_violencia'].mean()"
   ]
  },
  {
   "cell_type": "code",
   "execution_count": null,
   "metadata": {},
   "outputs": [],
   "source": [
    "gvb_calls_data['prov_residencia_persona_en_situacion_violencia'].value_counts()"
   ]
  },
  {
   "cell_type": "code",
   "execution_count": null,
   "metadata": {},
   "outputs": [],
   "source": []
  }
 ],
 "metadata": {
  "kernelspec": {
   "display_name": "Python 3.9.7 ('base')",
   "language": "python",
   "name": "python3"
  },
  "language_info": {
   "codemirror_mode": {
    "name": "ipython",
    "version": 3
   },
   "file_extension": ".py",
   "mimetype": "text/x-python",
   "name": "python",
   "nbconvert_exporter": "python",
   "pygments_lexer": "ipython3",
   "version": "3.9.7"
  },
  "orig_nbformat": 4,
  "vscode": {
   "interpreter": {
    "hash": "c2cbc3b52abc8e06b49e1ca36d2c5594418131a07976fda795c55fb6bf71fd75"
   }
  }
 },
 "nbformat": 4,
 "nbformat_minor": 2
}
